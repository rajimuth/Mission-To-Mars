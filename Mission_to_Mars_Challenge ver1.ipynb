{
 "cells": [
  {
   "cell_type": "code",
   "execution_count": 437,
   "id": "5cb07987",
   "metadata": {},
   "outputs": [],
   "source": [
    "# Import Pandas\n",
    "import pandas as pd\n",
    "# Import Splinter and BeautifulSoup\n",
    "from splinter import Browser\n",
    "from bs4 import BeautifulSoup as soup\n",
    "from webdriver_manager.chrome import ChromeDriverManager"
   ]
  },
  {
   "cell_type": "code",
   "execution_count": 438,
   "id": "2e3f95e7",
   "metadata": {},
   "outputs": [
    {
     "name": "stderr",
     "output_type": "stream",
     "text": [
      "\n",
      "\n",
      "====== WebDriver manager ======\n",
      "Current google-chrome version is 99.0.4844\n",
      "Get LATEST chromedriver version for 99.0.4844 google-chrome\n",
      "Trying to download new driver from https://chromedriver.storage.googleapis.com/99.0.4844.51/chromedriver_win32.zip\n",
      "Driver has been saved in cache [C:\\Users\\aahaa\\.wdm\\drivers\\chromedriver\\win32\\99.0.4844.51]\n"
     ]
    }
   ],
   "source": [
    "executable_path = {'executable_path': ChromeDriverManager().install()}\n",
    "browser = Browser('chrome', **executable_path, headless=False)"
   ]
  },
  {
   "cell_type": "code",
   "execution_count": 439,
   "id": "31e8956a",
   "metadata": {},
   "outputs": [
    {
     "data": {
      "text/plain": [
       "True"
      ]
     },
     "execution_count": 439,
     "metadata": {},
     "output_type": "execute_result"
    }
   ],
   "source": [
    "# Visit the mars nasa news site\n",
    "url = 'https://redplanetscience.com'\n",
    "browser.visit(url)\n",
    "# Optional delay for loading the page\n",
    "browser.is_element_present_by_css('div.list_text', wait_time=1)"
   ]
  },
  {
   "cell_type": "code",
   "execution_count": 440,
   "id": "2c74ba03",
   "metadata": {},
   "outputs": [],
   "source": [
    "html = browser.html\n",
    "news_soup = soup(html, 'html.parser')\n",
    "slide_elem = news_soup.select_one('div.list_text')\n",
    "# slide_elem = news_soup.find_all('div',class_='list_text')\n",
    "# slide_elem"
   ]
  },
  {
   "cell_type": "code",
   "execution_count": 441,
   "id": "08e2aad1",
   "metadata": {},
   "outputs": [
    {
     "data": {
      "text/plain": [
       "<div class=\"content_title\">How NASA's Perseverance Mars Team Adjusted to Work in the Time of Coronavirus </div>"
      ]
     },
     "execution_count": 441,
     "metadata": {},
     "output_type": "execute_result"
    }
   ],
   "source": [
    "slide_elem.find('div',class_='content_title')"
   ]
  },
  {
   "cell_type": "code",
   "execution_count": 442,
   "id": "edde5edf",
   "metadata": {},
   "outputs": [
    {
     "data": {
      "text/plain": [
       "\"How NASA's Perseverance Mars Team Adjusted to Work in the Time of Coronavirus \""
      ]
     },
     "execution_count": 442,
     "metadata": {},
     "output_type": "execute_result"
    }
   ],
   "source": [
    "# Use the parent element to find the first `a` tag and save it as `news_title`\n",
    "news_title = slide_elem.find('div', class_='content_title').get_text()\n",
    "news_title"
   ]
  },
  {
   "cell_type": "code",
   "execution_count": 443,
   "id": "af822066",
   "metadata": {},
   "outputs": [
    {
     "data": {
      "text/plain": [
       "'Like much of the rest of the world, the Mars rover team is pushing forward with its mission-critical work while putting the health and safety of their colleagues and community first.'"
      ]
     },
     "execution_count": 443,
     "metadata": {},
     "output_type": "execute_result"
    }
   ],
   "source": [
    "# Use the parent element to find the summary text and save it as `summary_text`\n",
    "summary_text= slide_elem.find('div', class_='article_teaser_body').get_text()\n",
    "summary_text"
   ]
  },
  {
   "cell_type": "markdown",
   "id": "bdaac997",
   "metadata": {},
   "source": [
    "### Featured Images "
   ]
  },
  {
   "cell_type": "code",
   "execution_count": 444,
   "id": "a1b6043a",
   "metadata": {},
   "outputs": [],
   "source": [
    "# Visit URL\n",
    "url = 'https://spaceimages-mars.com'\n",
    "browser.visit(url)"
   ]
  },
  {
   "cell_type": "code",
   "execution_count": 445,
   "id": "c2d78875",
   "metadata": {},
   "outputs": [],
   "source": [
    "# Find and click the full image button\n",
    "full_image_elem = browser.find_by_tag('button')[1]\n",
    "full_image_elem.click()"
   ]
  },
  {
   "cell_type": "code",
   "execution_count": 446,
   "id": "c727232a",
   "metadata": {},
   "outputs": [],
   "source": [
    "# Parse the resulting html with soup\n",
    "html = browser.html\n",
    "img_soup = soup(html, 'html.parser')"
   ]
  },
  {
   "cell_type": "code",
   "execution_count": 447,
   "id": "58a0d5f4",
   "metadata": {},
   "outputs": [
    {
     "data": {
      "text/plain": [
       "'image/featured/mars3.jpg'"
      ]
     },
     "execution_count": 447,
     "metadata": {},
     "output_type": "execute_result"
    }
   ],
   "source": [
    "# Find the relative image url\n",
    "# get('src) pulls the link to the image\n",
    "# Look for <img/> tag for an image with a class fancybox_image\n",
    "img_url_rel = img_soup.find('img', class_='fancybox-image').get('src')\n",
    "img_url_rel"
   ]
  },
  {
   "cell_type": "code",
   "execution_count": 448,
   "id": "dbe9afe0",
   "metadata": {},
   "outputs": [
    {
     "data": {
      "text/plain": [
       "'https://spaceimages-mars.com/image/featured/mars3.jpg'"
      ]
     },
     "execution_count": 448,
     "metadata": {},
     "output_type": "execute_result"
    }
   ],
   "source": [
    "#The url from the img_url_rel will not open the image\n",
    "# Its only a partial link\n",
    "# Base url is not included to get the image\n",
    "#  Use the base URL (https://spaceimages-mars.com/) to create an absolute URL\n",
    "img_url = f'https://spaceimages-mars.com/{img_url_rel}'\n",
    "img_url"
   ]
  },
  {
   "cell_type": "code",
   "execution_count": 449,
   "id": "6539fae4",
   "metadata": {},
   "outputs": [
    {
     "data": {
      "text/plain": [
       "[                         0                1                2\n",
       " 0  Mars - Earth Comparison             Mars            Earth\n",
       " 1                Diameter:         6,779 km        12,742 km\n",
       " 2                    Mass:  6.39 × 10^23 kg  5.97 × 10^24 kg\n",
       " 3                   Moons:                2                1\n",
       " 4       Distance from Sun:   227,943,824 km   149,598,262 km\n",
       " 5          Length of Year:   687 Earth days      365.24 days\n",
       " 6             Temperature:     -87 to -5 °C      -88 to 58°C,\n",
       "                       0                              1\n",
       " 0  Equatorial Diameter:                       6,792 km\n",
       " 1       Polar Diameter:                       6,752 km\n",
       " 2                 Mass:  6.39 × 10^23 kg (0.11 Earths)\n",
       " 3                Moons:          2 ( Phobos & Deimos )\n",
       " 4       Orbit Distance:       227,943,824 km (1.38 AU)\n",
       " 5         Orbit Period:           687 days (1.9 years)\n",
       " 6  Surface Temperature:                   -87 to -5 °C\n",
       " 7         First Record:              2nd millennium BC\n",
       " 8          Recorded By:           Egyptian astronomers]"
      ]
     },
     "execution_count": 449,
     "metadata": {},
     "output_type": "execute_result"
    }
   ],
   "source": [
    "pd.read_html('https://galaxyfacts-mars.com')"
   ]
  },
  {
   "cell_type": "code",
   "execution_count": 450,
   "id": "56e32828",
   "metadata": {},
   "outputs": [
    {
     "data": {
      "text/html": [
       "<div>\n",
       "<style scoped>\n",
       "    .dataframe tbody tr th:only-of-type {\n",
       "        vertical-align: middle;\n",
       "    }\n",
       "\n",
       "    .dataframe tbody tr th {\n",
       "        vertical-align: top;\n",
       "    }\n",
       "\n",
       "    .dataframe thead th {\n",
       "        text-align: right;\n",
       "    }\n",
       "</style>\n",
       "<table border=\"1\" class=\"dataframe\">\n",
       "  <thead>\n",
       "    <tr style=\"text-align: right;\">\n",
       "      <th></th>\n",
       "      <th>Mars</th>\n",
       "      <th>Earth</th>\n",
       "    </tr>\n",
       "    <tr>\n",
       "      <th>description</th>\n",
       "      <th></th>\n",
       "      <th></th>\n",
       "    </tr>\n",
       "  </thead>\n",
       "  <tbody>\n",
       "    <tr>\n",
       "      <th>Mars - Earth Comparison</th>\n",
       "      <td>Mars</td>\n",
       "      <td>Earth</td>\n",
       "    </tr>\n",
       "    <tr>\n",
       "      <th>Diameter:</th>\n",
       "      <td>6,779 km</td>\n",
       "      <td>12,742 km</td>\n",
       "    </tr>\n",
       "    <tr>\n",
       "      <th>Mass:</th>\n",
       "      <td>6.39 × 10^23 kg</td>\n",
       "      <td>5.97 × 10^24 kg</td>\n",
       "    </tr>\n",
       "    <tr>\n",
       "      <th>Moons:</th>\n",
       "      <td>2</td>\n",
       "      <td>1</td>\n",
       "    </tr>\n",
       "    <tr>\n",
       "      <th>Distance from Sun:</th>\n",
       "      <td>227,943,824 km</td>\n",
       "      <td>149,598,262 km</td>\n",
       "    </tr>\n",
       "    <tr>\n",
       "      <th>Length of Year:</th>\n",
       "      <td>687 Earth days</td>\n",
       "      <td>365.24 days</td>\n",
       "    </tr>\n",
       "    <tr>\n",
       "      <th>Temperature:</th>\n",
       "      <td>-87 to -5 °C</td>\n",
       "      <td>-88 to 58°C</td>\n",
       "    </tr>\n",
       "  </tbody>\n",
       "</table>\n",
       "</div>"
      ],
      "text/plain": [
       "                                    Mars            Earth\n",
       "description                                              \n",
       "Mars - Earth Comparison             Mars            Earth\n",
       "Diameter:                       6,779 km        12,742 km\n",
       "Mass:                    6.39 × 10^23 kg  5.97 × 10^24 kg\n",
       "Moons:                                 2                1\n",
       "Distance from Sun:        227,943,824 km   149,598,262 km\n",
       "Length of Year:           687 Earth days      365.24 days\n",
       "Temperature:                -87 to -5 °C      -88 to 58°C"
      ]
     },
     "execution_count": 450,
     "metadata": {},
     "output_type": "execute_result"
    }
   ],
   "source": [
    "# Scrape the entire table with pandas .read_html() function\n",
    "# create a new dataframe from the HTML Table\n",
    "# read_html() specifically searched for and returns a list of tables found in the HTML\n",
    "# index 0, tell pandas to pull only the first table it wncounters\n",
    "mars_df = pd.read_html('https://galaxyfacts-mars.com')[0]\n",
    "# Assign columns to the dataframe\n",
    "mars_df.columns=['description', 'Mars', 'Earth']\n",
    "# set description as index\n",
    "mars_df.set_index('description', inplace=True)\n",
    "mars_df"
   ]
  },
  {
   "cell_type": "code",
   "execution_count": 451,
   "id": "aa5bc4e3",
   "metadata": {},
   "outputs": [
    {
     "data": {
      "text/plain": [
       "'<table border=\"1\" class=\"dataframe\">\\n  <thead>\\n    <tr style=\"text-align: right;\">\\n      <th></th>\\n      <th>Mars</th>\\n      <th>Earth</th>\\n    </tr>\\n    <tr>\\n      <th>description</th>\\n      <th></th>\\n      <th></th>\\n    </tr>\\n  </thead>\\n  <tbody>\\n    <tr>\\n      <th>Mars - Earth Comparison</th>\\n      <td>Mars</td>\\n      <td>Earth</td>\\n    </tr>\\n    <tr>\\n      <th>Diameter:</th>\\n      <td>6,779 km</td>\\n      <td>12,742 km</td>\\n    </tr>\\n    <tr>\\n      <th>Mass:</th>\\n      <td>6.39 × 10^23 kg</td>\\n      <td>5.97 × 10^24 kg</td>\\n    </tr>\\n    <tr>\\n      <th>Moons:</th>\\n      <td>2</td>\\n      <td>1</td>\\n    </tr>\\n    <tr>\\n      <th>Distance from Sun:</th>\\n      <td>227,943,824 km</td>\\n      <td>149,598,262 km</td>\\n    </tr>\\n    <tr>\\n      <th>Length of Year:</th>\\n      <td>687 Earth days</td>\\n      <td>365.24 days</td>\\n    </tr>\\n    <tr>\\n      <th>Temperature:</th>\\n      <td>-87 to -5 °C</td>\\n      <td>-88 to 58°C</td>\\n    </tr>\\n  </tbody>\\n</table>'"
      ]
     },
     "execution_count": 451,
     "metadata": {},
     "output_type": "execute_result"
    }
   ],
   "source": [
    "# convert dataframe back to HTML to upload it in the webpage\n",
    "mars_df.to_html()\n"
   ]
  },
  {
   "cell_type": "code",
   "execution_count": 452,
   "id": "e4068b4e",
   "metadata": {},
   "outputs": [],
   "source": [
    "# # Done with scraping\n",
    "# # close automated browser\n",
    "# browser.quit()"
   ]
  },
  {
   "cell_type": "code",
   "execution_count": 453,
   "id": "4253a6c0",
   "metadata": {},
   "outputs": [],
   "source": [
    "# 1. Use browser to visit the URL \n",
    "url = 'https://marshemispheres.com/'\n",
    "\n",
    "browser.visit(url)"
   ]
  },
  {
   "cell_type": "code",
   "execution_count": 454,
   "id": "1f6a3ba8",
   "metadata": {},
   "outputs": [],
   "source": [
    "html = browser.html\n",
    "hemi_soup = soup(html, 'html.parser')"
   ]
  },
  {
   "cell_type": "code",
   "execution_count": 455,
   "id": "721f0adc",
   "metadata": {},
   "outputs": [],
   "source": [
    "# 2. Create a list to hold the images and titles.\n",
    "hemisphere_image_urls = []\n",
    "\n",
    "# 3. Write code to retrieve the image urls and titles for each hemisphere.\n",
    "\n",
    "\n",
    "\n"
   ]
  },
  {
   "cell_type": "code",
   "execution_count": 456,
   "id": "b3df4822",
   "metadata": {},
   "outputs": [
    {
     "name": "stdout",
     "output_type": "stream",
     "text": [
      "Cerberus Hemisphere Enhanced\n",
      "{'title': 'Cerberus Hemisphere Enhanced'}\n",
      "Schiaparelli Hemisphere Enhanced\n",
      "{'title': 'Schiaparelli Hemisphere Enhanced'}\n",
      "Syrtis Major Hemisphere Enhanced\n",
      "{'title': 'Syrtis Major Hemisphere Enhanced'}\n",
      "Valles Marineris Hemisphere Enhanced\n",
      "{'title': 'Valles Marineris Hemisphere Enhanced'}\n",
      "[{'title': 'Cerberus Hemisphere Enhanced'}, {'title': 'Schiaparelli Hemisphere Enhanced'}, {'title': 'Syrtis Major Hemisphere Enhanced'}, {'title': 'Valles Marineris Hemisphere Enhanced'}]\n"
     ]
    }
   ],
   "source": [
    "hemisphere_image_urls = []\n",
    "trs = hemi_soup.find_all('h3')\n",
    "for index,tr in enumerate(trs):\n",
    "    if index<4:\n",
    "        hemisphere={}\n",
    "        text=tr.get_text()\n",
    "        hemisphere[\"title\"] = text\n",
    "        hemisphere_image_urls.append(hemisphere)\n",
    "        print(text)\n",
    "        print(hemisphere)\n",
    "print (hemisphere_image_urls)    \n"
   ]
  },
  {
   "cell_type": "code",
   "execution_count": 457,
   "id": "37167d9a",
   "metadata": {},
   "outputs": [
    {
     "name": "stdout",
     "output_type": "stream",
     "text": [
      "Cerberus Hemisphere Enhanced\n",
      "{'title': 'Cerberus Hemisphere Enhanced'}\n",
      "Schiaparelli Hemisphere Enhanced\n",
      "{'title': 'Schiaparelli Hemisphere Enhanced'}\n",
      "Syrtis Major Hemisphere Enhanced\n",
      "{'title': 'Syrtis Major Hemisphere Enhanced'}\n",
      "Valles Marineris Hemisphere Enhanced\n",
      "{'title': 'Valles Marineris Hemisphere Enhanced'}\n",
      "[{'title': 'Cerberus Hemisphere Enhanced'}, {'title': 'Schiaparelli Hemisphere Enhanced'}, {'title': 'Syrtis Major Hemisphere Enhanced'}, {'title': 'Valles Marineris Hemisphere Enhanced'}, {'title': 'Cerberus Hemisphere Enhanced'}, {'title': 'Schiaparelli Hemisphere Enhanced'}, {'title': 'Syrtis Major Hemisphere Enhanced'}, {'title': 'Valles Marineris Hemisphere Enhanced'}]\n"
     ]
    }
   ],
   "source": [
    "# trs = hemi_soup.find_all('h3')\n",
    "# for index,tr in enumerate(trs):\n",
    "#     if index<4:\n",
    "#         hemisphere={}\n",
    "#         text=tr.get_text()\n",
    "#         hemisphere[\"title\"] = text\n",
    "#         hemisphere_image_urls.append(hemisphere)\n",
    "#         print(text)\n",
    "#         print(hemisphere)\n",
    "# print (hemisphere_image_urls)  "
   ]
  },
  {
   "cell_type": "code",
   "execution_count": 471,
   "id": "bc6673d5",
   "metadata": {},
   "outputs": [
    {
     "name": "stdout",
     "output_type": "stream",
     "text": [
      "[{'title': 'Valles Marineris Hemisphere Enhanced', 'url': 'https://marshemispheres.com/images/b3c7c6c9138f57b4756be9b9c43e3a48_valles_marineris_enhanced.tif_full.jpg'}, {'title': 'Valles Marineris Hemisphere Enhanced', 'url': 'https://marshemispheres.com/images/b3c7c6c9138f57b4756be9b9c43e3a48_valles_marineris_enhanced.tif_full.jpg'}, {'title': 'Valles Marineris Hemisphere Enhanced', 'url': 'https://marshemispheres.com/images/b3c7c6c9138f57b4756be9b9c43e3a48_valles_marineris_enhanced.tif_full.jpg'}, {'title': 'Valles Marineris Hemisphere Enhanced', 'url': 'https://marshemispheres.com/images/b3c7c6c9138f57b4756be9b9c43e3a48_valles_marineris_enhanced.tif_full.jpg'}]\n"
     ]
    }
   ],
   "source": [
    "i=0\n",
    "hemisphere_image_urls=[]\n",
    "hemisphere={}\n",
    "trs = hemi_soup.find_all('h3')\n",
    "for index,tr in enumerate(trs):\n",
    "    # for i in range(4):\n",
    "    if index<4:\n",
    "        text=tr.get_text()\n",
    "        hemisphere[\"title\"] = text\n",
    "        browser.find_by_css(\"a.product-item h3\")[i].click()\n",
    "        html = browser.html\n",
    "        img_soup = soup(html, 'html.parser')\n",
    "        sample_elem = img_soup.find('img',class_='wide-image')\n",
    "        hemi_url = sample_elem.get('src')\n",
    "        hemi_abs_url=f'https://marshemispheres.com/{hemi_url}'\n",
    "        hemisphere[\"url\"]=hemi_abs_url\n",
    "        hemisphere_image_urls.append(hemisphere)\n",
    "        i=i+1\n",
    "        browser.back()\n",
    "        # print(text)\n",
    "        # print(hemisphere)\n",
    "print (hemisphere_image_urls)  "
   ]
  },
  {
   "cell_type": "code",
   "execution_count": 469,
   "id": "9ac8fe06",
   "metadata": {},
   "outputs": [
    {
     "name": "stdout",
     "output_type": "stream",
     "text": [
      "['https://marshemispheres.com/images/f5e372a36edfa389625da6d0cc25d905_cerberus_enhanced.tif_full.jpg', 'https://marshemispheres.com/images/3778f7b43bbbc89d6e3cfabb3613ba93_schiaparelli_enhanced.tif_full.jpg', 'https://marshemispheres.com/images/555e6403a6ddd7ba16ddb0e471cadcf7_syrtis_major_enhanced.tif_full.jpg', 'https://marshemispheres.com/images/b3c7c6c9138f57b4756be9b9c43e3a48_valles_marineris_enhanced.tif_full.jpg']\n"
     ]
    }
   ],
   "source": [
    "# i=0\n",
    "# hr_list=[]\n",
    "# for i in range (4):\n",
    "#   browser.find_by_css(\"a.product-item h3\")[i].click()\n",
    "#   html = browser.html\n",
    "#   img_soup = soup(html, 'html.parser')\n",
    "#   sample_elem = img_soup.find('img',class_='wide-image')\n",
    "#   hemi_url = sample_elem.get('src')\n",
    "#   hemi_abs_url=f'https://marshemispheres.com/{hemi_url}'\n",
    "#   hr_list.append(hemi_abs_url)\n",
    "#   i=i+1\n",
    "#   browser.back()\n",
    "# print (hr_list)"
   ]
  },
  {
   "cell_type": "code",
   "execution_count": 459,
   "id": "36c9f200",
   "metadata": {},
   "outputs": [
    {
     "ename": "AttributeError",
     "evalue": "'NoneType' object has no attribute 'get_text'",
     "output_type": "error",
     "traceback": [
      "\u001b[1;31m---------------------------------------------------------------------------\u001b[0m",
      "\u001b[1;31mAttributeError\u001b[0m                            Traceback (most recent call last)",
      "\u001b[1;32m~\\AppData\\Local\\Temp/ipykernel_26428/1163334733.py\u001b[0m in \u001b[0;36m<module>\u001b[1;34m\u001b[0m\n\u001b[0;32m      1\u001b[0m \u001b[0mimage_div\u001b[0m\u001b[1;33m=\u001b[0m\u001b[0mhemi_soup\u001b[0m\u001b[1;33m.\u001b[0m\u001b[0mfind_all\u001b[0m\u001b[1;33m(\u001b[0m\u001b[1;34m'div'\u001b[0m\u001b[1;33m,\u001b[0m\u001b[0mclass_\u001b[0m\u001b[1;33m=\u001b[0m\u001b[1;34m'item'\u001b[0m\u001b[1;33m)\u001b[0m\u001b[1;33m\u001b[0m\u001b[1;33m\u001b[0m\u001b[0m\n\u001b[0;32m      2\u001b[0m \u001b[1;32mfor\u001b[0m \u001b[0mi\u001b[0m \u001b[1;32min\u001b[0m \u001b[0mimage_div\u001b[0m\u001b[1;33m:\u001b[0m\u001b[1;33m\u001b[0m\u001b[1;33m\u001b[0m\u001b[0m\n\u001b[1;32m----> 3\u001b[1;33m     \u001b[0mimg_div\u001b[0m \u001b[1;33m=\u001b[0m \u001b[0mi\u001b[0m\u001b[1;33m.\u001b[0m\u001b[0mfind\u001b[0m\u001b[1;33m(\u001b[0m\u001b[1;34m'href'\u001b[0m\u001b[1;33m)\u001b[0m\u001b[1;33m.\u001b[0m\u001b[0mget_text\u001b[0m\u001b[1;33m(\u001b[0m\u001b[1;33m)\u001b[0m\u001b[1;33m\u001b[0m\u001b[1;33m\u001b[0m\u001b[0m\n\u001b[0m\u001b[0;32m      4\u001b[0m     \u001b[0mprint\u001b[0m\u001b[1;33m(\u001b[0m\u001b[0mimg_div\u001b[0m\u001b[1;33m)\u001b[0m\u001b[1;33m\u001b[0m\u001b[1;33m\u001b[0m\u001b[0m\n",
      "\u001b[1;31mAttributeError\u001b[0m: 'NoneType' object has no attribute 'get_text'"
     ]
    }
   ],
   "source": [
    "image_div=hemi_soup.find_all('div',class_='item')\n",
    "for i in image_div:\n",
    "    img_div = i.find('href').get_text()\n",
    "    print(img_div)"
   ]
  },
  {
   "cell_type": "code",
   "execution_count": null,
   "id": "95ce5fff",
   "metadata": {},
   "outputs": [
    {
     "name": "stdout",
     "output_type": "stream",
     "text": [
      "[<div class=\"item\">\n",
      "<a class=\"itemLink product-item\" href=\"cerberus.html\"><img alt=\"Cerberus Hemisphere Enhanced thumbnail\" class=\"thumb\" src=\"images/39d3266553462198bd2fbc4d18fbed17_cerberus_enhanced.tif_thumb.png\"/></a>\n",
      "<div class=\"description\">\n",
      "<a class=\"itemLink product-item\" href=\"cerberus.html\">\n",
      "<h3>Cerberus Hemisphere Enhanced</h3>\n",
      "</a>\n",
      "<span class=\"subtitle\" style=\"float:left\">image/tiff 21 MB</span><span class=\"pubDate\" style=\"float:right\"></span><br/>\n",
      "<p>Mosaic of the Cerberus hemisphere of Mars projected into point perspective, a view similar to that which one would see from a spacecraft. This mosaic is composed of 104 Viking Orbiter images acquired…</p>\n",
      "</div>\n",
      "<!-- end description -->\n",
      "</div>, <div class=\"item\">\n",
      "<a class=\"itemLink product-item\" href=\"schiaparelli.html\"><img alt=\"Schiaparelli Hemisphere Enhanced thumbnail\" class=\"thumb\" src=\"images/08eac6e22c07fb1fe72223a79252de20_schiaparelli_enhanced.tif_thumb.png\"/></a>\n",
      "<div class=\"description\">\n",
      "<a class=\"itemLink product-item\" href=\"schiaparelli.html\">\n",
      "<h3>Schiaparelli Hemisphere Enhanced</h3>\n",
      "</a>\n",
      "<span class=\"subtitle\" style=\"float:left\">image/tiff 35 MB</span><span class=\"pubDate\" style=\"float:right\"></span><br/>\n",
      "<p>Mosaic of the Schiaparelli hemisphere of Mars projected into point perspective, a view similar to that which one would see from a spacecraft. The images were acquired in 1980 during early northern…</p>\n",
      "</div>\n",
      "<!-- end description -->\n",
      "</div>, <div class=\"item\">\n",
      "<a class=\"itemLink product-item\" href=\"syrtis.html\"><img alt=\"Syrtis Major Hemisphere Enhanced thumbnail\" class=\"thumb\" src=\"images/55a0a1e2796313fdeafb17c35925e8ac_syrtis_major_enhanced.tif_thumb.png\"/></a>\n",
      "<div class=\"description\">\n",
      "<a class=\"itemLink product-item\" href=\"syrtis.html\">\n",
      "<h3>Syrtis Major Hemisphere Enhanced</h3>\n",
      "</a>\n",
      "<span class=\"subtitle\" style=\"float:left\">image/tiff 25 MB</span><span class=\"pubDate\" style=\"float:right\"></span><br/>\n",
      "<p>Mosaic of the Syrtis Major hemisphere of Mars projected into point perspective, a view similar to that which one would see from a spacecraft. This mosaic is composed of about 100 red and violet…</p>\n",
      "</div>\n",
      "<!-- end description -->\n",
      "</div>, <div class=\"item\">\n",
      "<a class=\"itemLink product-item\" href=\"valles.html\"><img alt=\"Valles Marineris Hemisphere Enhanced thumbnail\" class=\"thumb\" src=\"images/4e59980c1c57f89c680c0e1ccabbeff1_valles_marineris_enhanced.tif_thumb.png\"/></a>\n",
      "<div class=\"description\">\n",
      "<a class=\"itemLink product-item\" href=\"valles.html\">\n",
      "<h3>Valles Marineris Hemisphere Enhanced</h3>\n",
      "</a>\n",
      "<span class=\"subtitle\" style=\"float:left\">image/tiff 27 MB</span><span class=\"pubDate\" style=\"float:right\"></span><br/>\n",
      "<p>Mosaic of the Valles Marineris hemisphere of Mars projected into point perspective, a view similar to that which one would see from a spacecraft. The distance is 2500 kilometers from the surface of…</p>\n",
      "</div>\n",
      "<!-- end description -->\n",
      "</div>]\n"
     ]
    }
   ],
   "source": [
    "print(image_div)"
   ]
  },
  {
   "cell_type": "code",
   "execution_count": null,
   "id": "258b9a7d",
   "metadata": {},
   "outputs": [],
   "source": [
    "browser.find_by_css(\"a.product-item h3\").click()"
   ]
  },
  {
   "cell_type": "code",
   "execution_count": null,
   "id": "7afe5a29",
   "metadata": {},
   "outputs": [
    {
     "ename": "ElementDoesNotExist",
     "evalue": "no elements could be found with link by text \"Sample\"",
     "output_type": "error",
     "traceback": [
      "\u001b[1;31m---------------------------------------------------------------------------\u001b[0m",
      "\u001b[1;31mIndexError\u001b[0m                                Traceback (most recent call last)",
      "\u001b[1;32m~\\anaconda3\\envs\\Pythondata\\lib\\site-packages\\splinter\\element_list.py\u001b[0m in \u001b[0;36m__getitem__\u001b[1;34m(self, index)\u001b[0m\n\u001b[0;32m     38\u001b[0m         \u001b[1;32mtry\u001b[0m\u001b[1;33m:\u001b[0m\u001b[1;33m\u001b[0m\u001b[1;33m\u001b[0m\u001b[0m\n\u001b[1;32m---> 39\u001b[1;33m             \u001b[1;32mreturn\u001b[0m \u001b[0mself\u001b[0m\u001b[1;33m.\u001b[0m\u001b[0m_container\u001b[0m\u001b[1;33m[\u001b[0m\u001b[0mindex\u001b[0m\u001b[1;33m]\u001b[0m\u001b[1;33m\u001b[0m\u001b[1;33m\u001b[0m\u001b[0m\n\u001b[0m\u001b[0;32m     40\u001b[0m         \u001b[1;32mexcept\u001b[0m \u001b[0mIndexError\u001b[0m\u001b[1;33m:\u001b[0m\u001b[1;33m\u001b[0m\u001b[1;33m\u001b[0m\u001b[0m\n",
      "\u001b[1;31mIndexError\u001b[0m: list index out of range",
      "\nDuring handling of the above exception, another exception occurred:\n",
      "\u001b[1;31mElementDoesNotExist\u001b[0m                       Traceback (most recent call last)",
      "\u001b[1;32m~\\AppData\\Local\\Temp/ipykernel_26428/1314861370.py\u001b[0m in \u001b[0;36m<module>\u001b[1;34m\u001b[0m\n\u001b[0;32m      3\u001b[0m \u001b[1;32mfor\u001b[0m \u001b[0mi\u001b[0m \u001b[1;32min\u001b[0m \u001b[0mrange\u001b[0m \u001b[1;33m(\u001b[0m\u001b[1;36m4\u001b[0m\u001b[1;33m)\u001b[0m\u001b[1;33m:\u001b[0m\u001b[1;33m\u001b[0m\u001b[1;33m\u001b[0m\u001b[0m\n\u001b[0;32m      4\u001b[0m     \u001b[0mbrowser\u001b[0m\u001b[1;33m.\u001b[0m\u001b[0mfind_by_css\u001b[0m\u001b[1;33m(\u001b[0m\u001b[1;34m\"a.product-item h3\"\u001b[0m\u001b[1;33m)\u001b[0m\u001b[1;33m[\u001b[0m\u001b[0mi\u001b[0m\u001b[1;33m]\u001b[0m\u001b[1;33m.\u001b[0m\u001b[0mclick\u001b[0m\u001b[1;33m(\u001b[0m\u001b[1;33m)\u001b[0m\u001b[1;33m\u001b[0m\u001b[1;33m\u001b[0m\u001b[0m\n\u001b[1;32m----> 5\u001b[1;33m     \u001b[0msample_elem\u001b[0m \u001b[1;33m=\u001b[0m \u001b[0mbrowser\u001b[0m\u001b[1;33m.\u001b[0m\u001b[0mlinks\u001b[0m\u001b[1;33m.\u001b[0m\u001b[0mfind_by_text\u001b[0m\u001b[1;33m(\u001b[0m\u001b[1;34m'Sample'\u001b[0m\u001b[1;33m)\u001b[0m\u001b[1;33m.\u001b[0m\u001b[0mfirst\u001b[0m\u001b[1;33m\u001b[0m\u001b[1;33m\u001b[0m\u001b[0m\n\u001b[0m\u001b[0;32m      6\u001b[0m     \u001b[0mhref\u001b[0m\u001b[1;33m=\u001b[0m \u001b[0msample_elem\u001b[0m\u001b[1;33m[\u001b[0m\u001b[1;34m'href'\u001b[0m\u001b[1;33m]\u001b[0m\u001b[1;33m\u001b[0m\u001b[1;33m\u001b[0m\u001b[0m\n\u001b[0;32m      7\u001b[0m     \u001b[0mi\u001b[0m\u001b[1;33m+=\u001b[0m\u001b[1;36m1\u001b[0m\u001b[1;33m\u001b[0m\u001b[1;33m\u001b[0m\u001b[0m\n",
      "\u001b[1;32m~\\anaconda3\\envs\\Pythondata\\lib\\site-packages\\splinter\\element_list.py\u001b[0m in \u001b[0;36mfirst\u001b[1;34m(self)\u001b[0m\n\u001b[0;32m     53\u001b[0m             \u001b[1;33m>>\u001b[0m\u001b[1;33m>\u001b[0m \u001b[1;32massert\u001b[0m \u001b[0melement_list\u001b[0m\u001b[1;33m[\u001b[0m\u001b[1;36m0\u001b[0m\u001b[1;33m]\u001b[0m \u001b[1;33m==\u001b[0m \u001b[0melement_list\u001b[0m\u001b[1;33m.\u001b[0m\u001b[0mfirst\u001b[0m\u001b[1;33m\u001b[0m\u001b[1;33m\u001b[0m\u001b[0m\n\u001b[0;32m     54\u001b[0m         \"\"\"\n\u001b[1;32m---> 55\u001b[1;33m         \u001b[1;32mreturn\u001b[0m \u001b[0mself\u001b[0m\u001b[1;33m[\u001b[0m\u001b[1;36m0\u001b[0m\u001b[1;33m]\u001b[0m\u001b[1;33m\u001b[0m\u001b[1;33m\u001b[0m\u001b[0m\n\u001b[0m\u001b[0;32m     56\u001b[0m \u001b[1;33m\u001b[0m\u001b[0m\n\u001b[0;32m     57\u001b[0m     \u001b[1;33m@\u001b[0m\u001b[0mproperty\u001b[0m\u001b[1;33m\u001b[0m\u001b[1;33m\u001b[0m\u001b[0m\n",
      "\u001b[1;32m~\\anaconda3\\envs\\Pythondata\\lib\\site-packages\\splinter\\element_list.py\u001b[0m in \u001b[0;36m__getitem__\u001b[1;34m(self, index)\u001b[0m\n\u001b[0;32m     41\u001b[0m             raise ElementDoesNotExist(\n\u001b[0;32m     42\u001b[0m                 u'no elements could be found with {0} \"{1}\"'.format(\n\u001b[1;32m---> 43\u001b[1;33m                     \u001b[0mself\u001b[0m\u001b[1;33m.\u001b[0m\u001b[0mfind_by\u001b[0m\u001b[1;33m,\u001b[0m \u001b[0mself\u001b[0m\u001b[1;33m.\u001b[0m\u001b[0mquery\u001b[0m\u001b[1;33m\u001b[0m\u001b[1;33m\u001b[0m\u001b[0m\n\u001b[0m\u001b[0;32m     44\u001b[0m                 )\n\u001b[0;32m     45\u001b[0m             )\n",
      "\u001b[1;31mElementDoesNotExist\u001b[0m: no elements could be found with link by text \"Sample\""
     ]
    }
   ],
   "source": [
    "\n",
    "i=0\n",
    "for i in range (4):\n",
    "    browser.find_by_css(\"a.product-item h3\")[i].click()\n",
    "    sample_elem = browser.links.find_by_text('Sample').first\n",
    "    href= sample_elem['href']\n",
    "    i+=1\n",
    "    print (href)\n",
    "\n",
    "\n"
   ]
  },
  {
   "cell_type": "code",
   "execution_count": null,
   "id": "0ad80f10",
   "metadata": {},
   "outputs": [],
   "source": [
    "# for image in hemi_url_rel:\n",
    "#     hemi_url = image.get('src')\n",
    "#     hemi_abs_url=f'https://marshemispheres.com/{hemi_url}'\n",
    "#     hemisphere_image_urls.append(hemi_abs_url)\n",
    "# print(hemisphere_image_urls)\n",
    " "
   ]
  },
  {
   "cell_type": "code",
   "execution_count": null,
   "id": "a2f5f401",
   "metadata": {},
   "outputs": [
    {
     "name": "stdout",
     "output_type": "stream",
     "text": [
      "[<div class=\"description\">\n",
      "<a class=\"itemLink product-item\" href=\"cerberus.html\">\n",
      "<h3>Cerberus Hemisphere Enhanced</h3>\n",
      "</a>\n",
      "<span class=\"subtitle\" style=\"float:left\">image/tiff 21 MB</span><span class=\"pubDate\" style=\"float:right\"></span><br/>\n",
      "<p>Mosaic of the Cerberus hemisphere of Mars projected into point perspective, a view similar to that which one would see from a spacecraft. This mosaic is composed of 104 Viking Orbiter images acquired…</p>\n",
      "</div>, <div class=\"description\">\n",
      "<a class=\"itemLink product-item\" href=\"schiaparelli.html\">\n",
      "<h3>Schiaparelli Hemisphere Enhanced</h3>\n",
      "</a>\n",
      "<span class=\"subtitle\" style=\"float:left\">image/tiff 35 MB</span><span class=\"pubDate\" style=\"float:right\"></span><br/>\n",
      "<p>Mosaic of the Schiaparelli hemisphere of Mars projected into point perspective, a view similar to that which one would see from a spacecraft. The images were acquired in 1980 during early northern…</p>\n",
      "</div>, <div class=\"description\">\n",
      "<a class=\"itemLink product-item\" href=\"syrtis.html\">\n",
      "<h3>Syrtis Major Hemisphere Enhanced</h3>\n",
      "</a>\n",
      "<span class=\"subtitle\" style=\"float:left\">image/tiff 25 MB</span><span class=\"pubDate\" style=\"float:right\"></span><br/>\n",
      "<p>Mosaic of the Syrtis Major hemisphere of Mars projected into point perspective, a view similar to that which one would see from a spacecraft. This mosaic is composed of about 100 red and violet…</p>\n",
      "</div>, <div class=\"description\">\n",
      "<a class=\"itemLink product-item\" href=\"valles.html\">\n",
      "<h3>Valles Marineris Hemisphere Enhanced</h3>\n",
      "</a>\n",
      "<span class=\"subtitle\" style=\"float:left\">image/tiff 27 MB</span><span class=\"pubDate\" style=\"float:right\"></span><br/>\n",
      "<p>Mosaic of the Valles Marineris hemisphere of Mars projected into point perspective, a view similar to that which one would see from a spacecraft. The distance is 2500 kilometers from the surface of…</p>\n",
      "</div>]\n"
     ]
    }
   ],
   "source": [
    "print(image_div)"
   ]
  },
  {
   "cell_type": "code",
   "execution_count": null,
   "id": "9f92fa48",
   "metadata": {},
   "outputs": [],
   "source": [
    "# for i in range(4):\n",
    "#     # time.sleep(1)\n",
    "#     # browser.click_link_by_href(aref)\n",
    "#     hemisphere = {}\n",
    "#     browser.find_by_css(\"a.product-item h3\")[i].click()\n",
    "#     # time.sleep(1)\n",
    "#     sample_elem = browser.links.find_by_text('Sample').first\n",
    "#     hemisphere['img_url'] = sample_elem['href']\n",
    "#     hemisphere['title'] = browser.find_by_css(\"h2.title\").text\n",
    "#     hemisphere_image_urls.append(hemisphere)\n",
    "#     browser.back()\n",
    "# hemisphere_imge_urls"
   ]
  },
  {
   "cell_type": "code",
   "execution_count": null,
   "id": "0ad80f10",
   "metadata": {},
   "outputs": [],
   "source": [
    "# for image in hemi_url_rel:\n",
    "#     hemi_url = image.get('src')\n",
    "#     hemi_abs_url=f'https://marshemispheres.com/{hemi_url}'\n",
    "#     hemisphere_image_urls.append(hemi_abs_url)\n",
    "# print(hemisphere_image_urls)\n",
    " "
   ]
  },
  {
   "cell_type": "code",
   "execution_count": null,
   "id": "b9c3e3cb",
   "metadata": {},
   "outputs": [],
   "source": [
    "# thumb_click = hemi_soup.find_all('a',class_='itemLink product-item')"
   ]
  },
  {
   "cell_type": "code",
   "execution_count": null,
   "id": "a6e67fb7",
   "metadata": {},
   "outputs": [],
   "source": [
    "# print(thumb_click)"
   ]
  },
  {
   "cell_type": "code",
   "execution_count": null,
   "id": "3c871f99",
   "metadata": {},
   "outputs": [],
   "source": [
    "# for i in range(4):\n",
    "#     # time.sleep(1)\n",
    "#     # browser.click_link_by_href(aref)\n",
    "#     hemisphere = {}\n",
    "#     browser.find_by_css(\"a.product-item h3\")[i].click()\n",
    "#     time.sleep(1)\n",
    "#     sample_elem = browser.links.find_by_text('Sample').first\n",
    "#     hemisphere['img_url'] = sample_elem['href']\n",
    "#     hemisphere['title'] = browser.find_by_css(\"h2.title\").text\n",
    "#     img_url.append(hemisphere)\n",
    "#     browser.back()\n",
    "# img_url"
   ]
  },
  {
   "cell_type": "code",
   "execution_count": null,
   "id": "6b74810e",
   "metadata": {},
   "outputs": [],
   "source": [
    "#  # Iterate through each div to pull titles and make list of hrefs to iterate through\n",
    "# i = 0\n",
    "# for div in divs:\n",
    "#     # Use Beautiful Soup's find() method to navigate and retrieve attributes\n",
    "#     link = div.find('a')\n",
    "#     href=link['href']\n",
    "#     img_title = div.a.find('h3')\n",
    "#     img_title = img_title.text\n",
    "#     img_titles.append(img_title)\n",
    "#     next_page = hemisphere_url + href\n",
    "#     nextpage_urls.append(next_page)\n",
    "#     i = i+1\n",
    "#     if (i == 4):\n",
    "#         break\n",
    "        \n",
    "# print(nextpage_urls)\n",
    "# print(img_titles)\n"
   ]
  },
  {
   "cell_type": "code",
   "execution_count": null,
   "id": "64f9a56c",
   "metadata": {},
   "outputs": [],
   "source": [
    "\n",
    "# for nextpage_url in nextpage_urls:\n",
    "#     img_url = nextpage_url\n",
    "#     browser.visit(img_url)\n",
    "#     html = browser.html\n",
    "#     hpx_img_soup = soup(html, 'html.parser')\n",
    "\n",
    "   \n",
    "\n",
    "    \n",
    "#     hpx_link = hpx_img_soup.find('img', class_=\"wide-image\")\n",
    "#     hpex_link\n",
    "#     # final_link = hpx_link['src']\n",
    "#     # hpx_img = hemisphere_url + final_link\n",
    "#     # hpx_images.append(hpx_img)\n",
    "#     # nextpage_urls = []"
   ]
  },
  {
   "cell_type": "code",
   "execution_count": null,
   "id": "55c4761c",
   "metadata": {},
   "outputs": [],
   "source": [
    "# print(img_url)"
   ]
  },
  {
   "cell_type": "code",
   "execution_count": null,
   "id": "fa0b2cd8",
   "metadata": {},
   "outputs": [],
   "source": [
    "\n",
    "# for link in thumb_click:\n",
    "#     href_link= link.get('href')\n",
    "#     print(href_link)\n",
    "# # thumb_click = hemi_soup.find_all('a', attrs={'href': re.compile(\"^http://\")})\n",
    "# # links=[]\n",
    "# # for link in thumb_click:\n",
    "# #     links.append(link.get('href'))\n",
    "# #     print (links)    \n",
    "# # for image in thumb_click:\n",
    "# #     href= thumb_click.find_all('href')\n",
    "# #     print(href)\n",
    "\n",
    "# # hemi_url_rel = hemi_soup.find_all('img', class_='thumb')"
   ]
  },
  {
   "cell_type": "code",
   "execution_count": null,
   "id": "c2f818d6",
   "metadata": {},
   "outputs": [],
   "source": [
    "# trs = hemi_soup.find_all('h3')\n",
    "\n",
    "# # print(trs)\n",
    "# for index, tr in enumerate(trs):\n",
    "#     if index < 4:\n",
    "#         hemi_title =tr.get_text()\n",
    "#         hemisphere_image_urls.append(hemi_title)\n",
    "# print(hemisphere_image_urls)\n",
    "# #     # for th in tr.findAll('th'):\n",
    "# #     #     print (th.get_text())\n",
    "# #     #     for td in tr.findAll('td'):\n",
    "# #     #         print(td.get_text())\n",
    "#     #         print(td.get_text())\n"
   ]
  },
  {
   "cell_type": "code",
   "execution_count": null,
   "id": "cdaae8a8",
   "metadata": {},
   "outputs": [],
   "source": [
    "# hemi_url_rel = hemi_soup.find_all('img', class_='thumb')\n",
    "# hemi_url_rel1 = hemi_soup.find_all('img', class_='wide-image')\n",
    "# hemi_url_rel"
   ]
  },
  {
   "cell_type": "code",
   "execution_count": null,
   "id": "bef035ba",
   "metadata": {},
   "outputs": [],
   "source": [
    "# hemi_url_rel"
   ]
  },
  {
   "cell_type": "code",
   "execution_count": null,
   "id": "0ad80f10",
   "metadata": {},
   "outputs": [],
   "source": [
    "# for image in hemi_url_rel:\n",
    "#     hemi_url = image.get('src')\n",
    "#     hemi_abs_url=f'https://marshemispheres.com/{hemi_url}'\n",
    "#     hemisphere_image_urls.append(hemi_abs_url)\n",
    "# print(hemisphere_image_urls)\n",
    " "
   ]
  },
  {
   "cell_type": "code",
   "execution_count": null,
   "id": "6091a27d",
   "metadata": {},
   "outputs": [],
   "source": [
    "# hemi_url = f'https://marshemispheres.com/{hemi_url_rel}'\n",
    "# hemi_url"
   ]
  },
  {
   "cell_type": "code",
   "execution_count": null,
   "id": "f0b2a1c1",
   "metadata": {},
   "outputs": [],
   "source": [
    "# 4. Print the list that holds the dictionary of each image url and title.\n",
    "# hemisphere_image_urls"
   ]
  },
  {
   "cell_type": "code",
   "execution_count": null,
   "id": "3f7368ff",
   "metadata": {},
   "outputs": [],
   "source": [
    "# 5. Quit the browser\n",
    "# browser.quit()"
   ]
  }
 ],
 "metadata": {
  "interpreter": {
   "hash": "14135273c128861cfbfac1f671c32a5d4b992b18397abdf83ee3b31a2a357466"
  },
  "kernelspec": {
   "display_name": "Python 3 (ipykernel)",
   "language": "python",
   "name": "python3"
  },
  "language_info": {
   "codemirror_mode": {
    "name": "ipython",
    "version": 3
   },
   "file_extension": ".py",
   "mimetype": "text/x-python",
   "name": "python",
   "nbconvert_exporter": "python",
   "pygments_lexer": "ipython3",
   "version": "3.7.11"
  }
 },
 "nbformat": 4,
 "nbformat_minor": 5
}
